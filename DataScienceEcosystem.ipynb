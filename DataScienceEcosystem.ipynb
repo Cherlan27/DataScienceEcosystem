{
 "cells": [
  {
   "cell_type": "markdown",
   "id": "cdddf5c8-1c2a-425f-bd4a-c4ce2978fef6",
   "metadata": {},
   "source": [
    "# Data Science Tools and Ecosystem"
   ]
  },
  {
   "cell_type": "markdown",
   "id": "50bdb82d-7518-4da6-b45d-aef0563c31b1",
   "metadata": {},
   "source": [
    "In this notebook, Data Science Tools and Ecosystem are summarized.\n"
   ]
  },
  {
   "cell_type": "markdown",
   "id": "750f405d-c9c3-43b8-af4e-1564ef19b1e9",
   "metadata": {},
   "source": [
    "Some of the popular languages that Data Scientists use are:\n",
    "\n",
    "1. Python\n",
    "2. R\n",
    "3. Julia\n",
    "4. Java\n",
    "5. Scala"
   ]
  },
  {
   "cell_type": "markdown",
   "id": "68fa04a4-b993-4f44-b97f-e61c5acd5748",
   "metadata": {
    "tags": []
   },
   "source": [
    "Some of the commonly used libraries used by Data Scientists include:"
   ]
  },
  {
   "cell_type": "markdown",
   "id": "511701c0-d4f8-4c63-a3f9-7d719c314c34",
   "metadata": {
    "tags": []
   },
   "source": [
    "1. Numpy\n",
    "2. Pandas\n",
    "3. Scikit-Learn\n",
    "4. Scipy\n",
    "5. Keras\n",
    "6. Tensorflow\n",
    "7. Pytorch\n",
    "8. Matplotlib"
   ]
  },
  {
   "cell_type": "markdown",
   "id": "421047fa-122a-4c23-85bc-d7cb25b53450",
   "metadata": {},
   "source": [
    "| Data Science Tools |\n",
    "----------------------\n",
    "|Spyder|\n",
    "|PyCharm|\n",
    "|RStudio|"
   ]
  },
  {
   "cell_type": "markdown",
   "id": "2f32338f-37d2-4e2c-947a-8ded075c674d",
   "metadata": {},
   "source": [
    "### Below are a few examples of evaluating arithmetic expressions in Python"
   ]
  },
  {
   "cell_type": "code",
   "execution_count": 4,
   "id": "cbc096d3-fecf-4bb5-bd08-0054e44a2578",
   "metadata": {
    "tags": []
   },
   "outputs": [
    {
     "data": {
      "text/plain": [
       "17"
      ]
     },
     "execution_count": 4,
     "metadata": {},
     "output_type": "execute_result"
    }
   ],
   "source": [
    "# This a simple arithmetic expression to mutiply then add integers\n",
    "\n",
    "(3*4)+5"
   ]
  },
  {
   "cell_type": "code",
   "execution_count": 10,
   "id": "c02933c8-fbe8-4348-9128-fb8d5dc41903",
   "metadata": {
    "tags": []
   },
   "outputs": [
    {
     "name": "stdout",
     "output_type": "stream",
     "text": [
      "3.3333333333333335 hours\n"
     ]
    }
   ],
   "source": [
    "# This will convert 200 minutes to hours by diving by 60\n",
    "\n",
    "hours = 200 / 60\n",
    "print(f\"{hours} hours\")"
   ]
  },
  {
   "cell_type": "markdown",
   "id": "4a05dcc8-4a4c-4cb7-a825-ead8c1416a0d",
   "metadata": {},
   "source": [
    "**Objectives**\n",
    "\n",
    "- List popular languages for Data Science\n",
    "- List commonly used libraries for Data Science\n",
    "- List Development environment open source tools for Data Science\n",
    "- Evaluating arithmetic expressions in Python"
   ]
  },
  {
   "cell_type": "markdown",
   "id": "2f5fa277-ae3c-4b54-a032-88a01e374b78",
   "metadata": {},
   "source": [
    "## Author\n",
    "Lukas Petersdorf"
   ]
  },
  {
   "cell_type": "code",
   "execution_count": null,
   "id": "1f7c4b84-83c6-4213-a618-24f6c11c29ba",
   "metadata": {},
   "outputs": [],
   "source": []
  }
 ],
 "metadata": {
  "kernelspec": {
   "display_name": "Python",
   "language": "python",
   "name": "conda-env-python-py"
  },
  "language_info": {
   "codemirror_mode": {
    "name": "ipython",
    "version": 3
   },
   "file_extension": ".py",
   "mimetype": "text/x-python",
   "name": "python",
   "nbconvert_exporter": "python",
   "pygments_lexer": "ipython3",
   "version": "3.7.12"
  }
 },
 "nbformat": 4,
 "nbformat_minor": 5
}
